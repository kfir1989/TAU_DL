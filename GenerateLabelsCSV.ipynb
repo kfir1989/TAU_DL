{
 "cells": [
  {
   "cell_type": "code",
   "execution_count": 6,
   "metadata": {
    "colab": {
     "base_uri": "https://localhost:8080/",
     "height": 441
    },
    "executionInfo": {
     "elapsed": 22857,
     "status": "ok",
     "timestamp": 1601846530342,
     "user": {
      "displayName": "Kfir Twizer",
      "photoUrl": "",
      "userId": "10831265964381659321"
     },
     "user_tz": -180
    },
    "id": "XGQFwzWGHgnN",
    "outputId": "5c597cdf-792e-4504-dcb0-d7fe9098e410"
   },
   "outputs": [
    {
     "name": "stdout",
     "output_type": "stream",
     "text": [
      "saved 996 files in directory 2\n",
      "saved 1500 files in directory 11\n",
      "saved 1030 files in directory 3\n",
      "saved 1059 files in directory 8\n",
      "saved 1010 files in directory 10\n",
      "saved 1029 files in directory 4\n",
      "saved 1057 files in directory 5\n",
      "saved 1042 files in directory 6\n",
      "saved 1020 files in directory 7\n",
      "saved 1042 files in directory 9\n"
     ]
    }
   ],
   "source": [
    "import os, csv\n",
    "#from google.colab import drive\n",
    "#drive.mount('/content/gdrive')\n",
    "\n",
    "path = \"/media/kfir/wiseData/Project/Testset/\"\n",
    "\n",
    "with open(path + \"labels.csv\", 'w+') as f:\n",
    "    w = csv.writer(f)\n",
    "    w.writerow([\"filename\", \"label\"])\n",
    "    for _, dirs, _ in os.walk(path + \"Encoded\"):\n",
    "        for dir in dirs:\n",
    "            dir_int = int(dir)-1\n",
    "            if(dir_int <= 10):\n",
    "                for _, _, files in os.walk(os.path.join(path,\"Encoded\", dir)):\n",
    "                    file_counter = 0\n",
    "                    for file in files:\n",
    "                        w.writerow([file, dir])\n",
    "                        file_counter += 1\n",
    "                print(\"saved {} files in directory {}\".format(file_counter, dir))"
   ]
  },
  {
   "cell_type": "code",
   "execution_count": null,
   "metadata": {
    "id": "CSMNh2v5UgvP"
   },
   "outputs": [],
   "source": [
    "#"
   ]
  }
 ],
 "metadata": {
  "colab": {
   "authorship_tag": "ABX9TyNcYfACZJXSskoj9PxbPfP3",
   "collapsed_sections": [],
   "name": "GenerateLabelsCSV.ipynb",
   "provenance": [
    {
     "file_id": "1jKFo1OOZXCmfFUBsI9zkwrvXkSODGB7D",
     "timestamp": 1597498529073
    }
   ]
  },
  "kernelspec": {
   "display_name": "Python 3",
   "language": "python",
   "name": "python3"
  },
  "language_info": {
   "codemirror_mode": {
    "name": "ipython",
    "version": 3
   },
   "file_extension": ".py",
   "mimetype": "text/x-python",
   "name": "python",
   "nbconvert_exporter": "python",
   "pygments_lexer": "ipython3",
   "version": "3.6.9"
  }
 },
 "nbformat": 4,
 "nbformat_minor": 1
}
